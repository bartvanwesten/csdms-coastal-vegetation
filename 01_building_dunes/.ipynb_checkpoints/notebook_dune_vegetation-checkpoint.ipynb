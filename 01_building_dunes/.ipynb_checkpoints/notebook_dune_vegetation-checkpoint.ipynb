{
 "cells": [
  {
   "cell_type": "markdown",
   "metadata": {
    "vscode": {
     "languageId": "markdown"
    }
   },
   "source": [
    "\n",
    "# Implementation of Simple Vegetation-Morphodynamic Interactions\n",
    "\n",
    "<img src=\"DALL·E 2024-08-02 00.04.21 - A fantastical and over-the-top scene showcasing the awesomeness of coastal vegetation. The scene includes lush, vibrant coastal plants, with lasers sh.webp\" style=\"width: 500px;\" /> | \n",
<<<<<<< Updated upstream
    "<img src=\".\\unicorn_laser_vegetation_images\\DALL·E 2024-08-02 17.00.35 - A fantastical scene showcasing the awesomeness of coastal vegetation, with a more realistic depiction of the plants. The scene includes lush, vibrant .webp\" style=\"width: 500px;\" /> |\n",
    "<img src=\".\\unicorn_laser_vegetation_images\\DALL·E 2024-08-02 17.01.47 - A fantastical and over-the-top scene showcasing the awesomeness of coastal vegetation with a focus on realism. The scene includes lush, realistic marr.webp\" style=\"width: 500px;\" /> |\n",
    "<img src=\".\\unicorn_laser_vegetation_images\\DALL·E 2024-08-02 17.11.49 - A fantastical and over-the-top scene showcasing the awesomeness of coastal vegetation, with more realistic elements. The scene includes lush, vibrant .webp\" style=\"width: 500px;\" /> |\n",
    "\n",
    "\n",
=======
    "<img src=\"DALL·E 2024-08-02 17.00.35 - A fantastical scene showcasing the awesomeness of coastal vegetation, with a more realistic depiction of the plants. The scene includes lush, vibrant .webp\" style=\"width: 500px;\" /> |\n",
    "<img src=\"DALL·E 2024-08-02 17.01.47 - A fantastical and over-the-top scene showcasing the awesomeness of coastal vegetation with a focus on realism. The scene includes lush, realistic marr.webp\" style=\"width: 500px;\" /> |\n",
    "<img src=\"DALL·E 2024-08-02 17.11.49 - A fantastical and over-the-top scene showcasing the awesomeness of coastal vegetation, with more realistic elements. The scene includes lush, vibrant .webp\" style=\"width: 500px;\" /> |\n",
>>>>>>> Stashed changes
    "\n",
    "The main objective of this notebook is to provide insight into how vegetation can help in building dunes and providing added value to people living along the coast. Throughout this notebook, we'll explore how to implement the influence and growth of vegetation in a simple manner. With the produced results, we hope to answer the following questions:\n",
    "\n",
    "* How does vegetation in coastal environments impact the physical geomorphological development of the system?\n",
    "* How can active vegetation management help in shaping the coast and providing additional benefits?\n",
    "\n",
    "## Case study: Building a dune!\n",
    "\n",
    "Our case study focuses on a house located along a beach. Currently, the only barrier between the house and the ocean is the beach itself. Consequently, the homeowner faces nuisances from blown sand and a lack of protection against flooding during extreme hydrodynamic events.\n",
    "\n",
    "To address these issues, the homeowner wishes to establish a dune or sand buffer in front of the house, without obstructing the sea view. Several design alternatives are available for creating such a dune. The evaluation will be based on three scenarios:\n",
    "\n",
    "1. **Benchmark:** No sand-capturing implementation.\n",
    "2. **Sand Fences:** A cheap but static solution.\n",
    "3. **Vegetation:** A dynamic approach.\n",
    "\n",
    "<img src=\"case-study.png\" />\n",
    "\n",
    "## Method: Coupling custom Python functions with an existing aeolian model\n",
    "\n",
    "We are going to use a simple semi-2D AeoLiS model of the coastal profile to describe the onshore aeolian flux and investigate how different solutions could affect these fluxes. The AeoLiS model is used as a basis for the computation of the supply-limited onshore transport from the intertidal area and beach towards the dune and house. \n",
    "\n",
    "The implementation of designs is done using linking custom Python functions to AeoLiS using BMI. This way, we can 1) showcase the relative biophysical interactions between vegetation and morphodynamics, and 2) demonstrate how to implement relatively simple functions to a numerical model without having to touch the source code.\n",
    "\n",
    "<img src=\"vegetation-coupling-method.png\" />\n",
    "\n",
    "\n",
    "\n",
    "\n"
   ]
  },
  {
   "cell_type": "markdown",
   "metadata": {},
   "source": [
    "# Vegetation functions\n",
    "\n",
    "The AeoLiS model handles the supply-limited aeolian transport from the intertidal zone to the beach and dunes. While AeoLiS already includes functionalities to describe the influence of vegetation, we aim to demonstrate this impact on geomorphology in the simplest way possible. Additionally, we will showcase how to use the Basic Model Interface (BMI) to integrate custom Python functions with an existing BMI-compatible model.\n",
    "\n",
    "To achieve this, we will create custom functions to describe the following processes:\n",
    "\n",
    "1. **Initialization**: The initial establishment of vegetation.\n",
    "2. **Development**: The growth and burial of vegetation over time.\n",
    "3. **Shear reduction**: The reduction of shear due to the presence of vegetation.\n",
    "\n",
    "\n",
    "### Initialization\n",
    "\n",
    "The presence of vegetation (and sand fences) is quantitatively described by height ($h$), determining the extent to which the vegetation influences the spatial shear stress. We assume that the height ($h$) has a maximum value of 1 m.\n",
    "\n",
    "During the initialization of either vegetation or sand fences, we will populate individual cells with starting values for height and the corresponding density:"
   ]
  },
  {
   "cell_type": "code",
<<<<<<< Updated upstream
   "execution_count": 1,
=======
   "execution_count": 12,
>>>>>>> Stashed changes
   "metadata": {},
   "outputs": [],
   "source": [
    "def vegetation_init(i_vegetated, height_init):\n",
    "    \"\"\"\n",
    "    Initialize vegetation height.\n",
    "\n",
    "    Parameters:\n",
    "    i_vegetated (array-like): Boolean array indicatnig vegetated cells.\n",
    "    height_init (float): Initial height of the vegetation (or sand fences).\n",
    "\n",
    "    Returns:\n",
    "    tuple: Array representing vegetation height.\n",
    "    \"\"\"\n",
    "\n",
    "    # Initialize vegetation height array with zeros\n",
    "    vegetation_height = np.zeros_like(i_vegetated)\n",
    "\n",
    "    # Set initial height for vegetated areas\n",
    "    vegetation_height[i_vegetated] = height_init\n",
    "\n",
    "    return vegetation_height\n"
   ]
  },
  {
   "cell_type": "markdown",
   "metadata": {},
   "source": [
    "### Development: Growth and Burial\n",
    "\n",
    "The `vegetation_development` function updates the vegetation height based on growth rate, timestep, and changes in bed level. Dune vegetation is known for its ability to grow with sedimentation. Although marram grass is more effective in accreting conditions compared to erosive ones, this function simplifies the process by assuming optimal growth (equal to the growth rate) in static conditions (i.e., when the bed level change is zero).\n",
    "\n",
    "The growth rate serves as a maximum potential growth rate and is provided in meters per year. It is converted to meters per second to match the timestep, which is given in seconds. This function can also be applied to sand fences, but with a growth rate of zero, since these are static structures.\n",
    "\n",
    "The function calculates the vegetation height at each timestep by considering both vegetation growth and changes in bed level (e.g., sediment deposition or erosion). The result is the updated vegetation height, accounting for both growth and burial processes."
   ]
  },
  {
   "cell_type": "code",
<<<<<<< Updated upstream
   "execution_count": 2,
=======
   "execution_count": 13,
>>>>>>> Stashed changes
   "metadata": {},
   "outputs": [],
   "source": [
    "def vegetation_development(growth_rate, timestep, vegetation_height, i_vegetated, bed_level_change):\n",
    "    \"\"\"\n",
    "    Update vegetation height based on growth rate, timestep, and bed level changes.\n",
    "\n",
    "    Parameters:\n",
    "    growth_rate (float): Annual growth rate of the vegetation (m/year).\n",
    "    timestep (float): Length of the timestep (seconds).\n",
    "    vegetation_height (array-like): Current heights of the vegetation.\n",
    "    bed_level_change (array-like): Changes in bed level during the timestep.\n",
    "\n",
    "    Returns:\n",
    "    array-like: Updated heights of the vegetation.\n",
    "    \"\"\"\n",
    "\n",
    "    # Convert the growth rate from m/year to m/timestep\n",
    "    growth_rate_per_second = growth_rate / (365 * 24 * 3600)\n",
    "    growth_rate_timestep = growth_rate_per_second * timestep\n",
    "\n",
    "    # Update vegetation height considering growth and bed level changes\n",
    "    vegetation_height[i_vegetated] += growth_rate_timestep - np.abs(bed_level_change)\n",
    "\n",
    "    # Make sure that the vegetation is not higher than the maximum of 1 meter\n",
    "    vegetation_height = np.minimum(vegetation_height, 1.)\n",
    "\n",
    "    return vegetation_height\n",
    "    "
   ]
  },
  {
   "cell_type": "markdown",
   "metadata": {},
   "source": [
    "### Shear reduction\n",
    "\n",
    "Vegetation (and sand fences) impact the geomorphological development of coasts by reducing local shear stresses. This results in a gradient in transport and therefore affects erosion and sedimentation. Due to the construction of the AeoLiS model, it is easier to increase the velocity threshold ($u_{th}$) rather than reducing shear stress ($u_*$). Using the principles from Bagnold (1937), the impact on the aeolian transport ($Q$) will be approximately the same:\n",
    "\n",
    "$Q = f( (u_* - u_{th})^3$ )\n",
    "\n",
    "The magnitude of increase is estimated using the approach by Raupach. Here, Γ is a scaling parameter, with a default value of 16. The result will be stored as a mask that will be multiplied with the current velocity threshold in AeoLiS:\n",
    "\n",
    "$mask_{uth} =  1 + Γ * h_{veg}$\n",
    "\n",
    "Within AeoLiS, the velocity threshold is adjusted as follows:\n",
    "\n",
    "$uth =  uth * mask_{uth}$\n",
    "\n"
   ]
  },
  {
   "cell_type": "code",
<<<<<<< Updated upstream
   "execution_count": 4,
=======
   "execution_count": 14,
>>>>>>> Stashed changes
   "metadata": {},
   "outputs": [],
   "source": [
    "def adjust_velocity_threshold(vegetation_height, gamma=16.0):\n",
    "    \"\"\"\n",
    "    Adjusts the velocity threshold based on vegetation height.\n",
    "\n",
    "    Parameters:\n",
    "    vegetation_height (array-like): Heights of the vegetation.\n",
    "    gamma (float, optional): Scaling parameter, default is 16.0.\n",
    "\n",
    "    Returns:\n",
    "    array-like: Adjusted velocity threshold mask.\n",
    "    \"\"\"\n",
    "\n",
    "    # Compute the velocity threshold mask\n",
    "    velocity_threshold_mask = 1 + gamma * vegetation_height\n",
    "\n",
    "    return velocity_threshold_mask\n",
    "    "
   ]
  },
  {
   "cell_type": "markdown",
   "metadata": {},
   "source": [
    "# Let's start modelling!\n",
    "\n",
    "First, import the required packages:"
   ]
  },
  {
   "cell_type": "code",
<<<<<<< Updated upstream
   "execution_count": 8,
=======
   "execution_count": 15,
>>>>>>> Stashed changes
   "metadata": {},
   "outputs": [],
   "source": [
    "import numpy as np\n",
    "import matplotlib.pyplot as plt\n",
    "import os\n",
    "from ipywidgets import IntProgress\n",
    "from IPython.display import display\n",
    "import time\n",
    "from aeolis.model import AeoLiSRunner"
   ]
  },
  {
   "cell_type": "markdown",
   "metadata": {},
   "source": [
    "Now, set the timing settings that determines for how long and with which timestep we will run AeoLiS:"
   ]
  },
  {
   "cell_type": "code",
<<<<<<< Updated upstream
   "execution_count": 6,
=======
   "execution_count": 16,
>>>>>>> Stashed changes
   "metadata": {},
   "outputs": [],
   "source": [
    "# Timing settigns\n",
<<<<<<< Updated upstream
    "timestep = 3600.       # seconds (= 1 hour)\n",
    "start_time = 0.        # seconds (= ....)\n",
    "end_time = 157680000.  # seconds (= ....)\n",
    "output_time = 604800.  # seconds (= 1 week)"
=======
    "timestep = 3600.       # seconds (= 1 hour), timestep to run the model and exchange vegetation information\n",
    "start_time = 0.        # seconds (= 0 year), start time of the model\n",
    "end_time = 31536000.   # seconds (= 1 year), end time of the model\n",
    "output_time = 604800.  # seconds (= 1 week), the frequency of plotting output (and animation)"
>>>>>>> Stashed changes
   ]
  },
  {
   "cell_type": "markdown",
   "metadata": {},
   "source": [
    "Setting the parameters for our vegetation functions:"
   ]
  },
  {
   "cell_type": "code",
<<<<<<< Updated upstream
   "execution_count": 5,
=======
   "execution_count": 17,
>>>>>>> Stashed changes
   "metadata": {},
   "outputs": [],
   "source": [
    "height_init = 0.0             # Initial height of vegetation (or sand fence) in meters\n",
    "growth_rate = 0.0             # Growth rate of vegetation in meters per year\n",
    "gamma = 16.0                  # Scaling parameter for adjusting velocity threshold\n",
    "x_min_vegetation = 440.0      # Cross-shore starting location for vegetation presence relative to the offshore boundary (in meters)\n",
    "x_max_vegetation = 490.0      # Cross-shore ending location for vegetation presence relative to the offshore boundary (in meters)"
   ]
  },
  {
   "cell_type": "markdown",
   "metadata": {},
   "source": [
    "Determine the location of the AeoLiS configuration file and change the working directory:"
   ]
  },
  {
   "cell_type": "code",
<<<<<<< Updated upstream
   "execution_count": 9,
   "metadata": {},
   "outputs": [
    {
     "ename": "FileNotFoundError",
     "evalue": "[WinError 2] The system cannot find the file specified: './setup'",
     "output_type": "error",
     "traceback": [
      "\u001b[1;31m---------------------------------------------------------------------------\u001b[0m",
      "\u001b[1;31mFileNotFoundError\u001b[0m                         Traceback (most recent call last)",
      "Cell \u001b[1;32mIn[9], line 3\u001b[0m\n\u001b[0;32m      1\u001b[0m \u001b[38;5;66;03m# Find file in the same directory as this script that contains aeolis.txt\u001b[39;00m\n\u001b[0;32m      2\u001b[0m configfile \u001b[38;5;241m=\u001b[39m \u001b[38;5;124m'\u001b[39m\u001b[38;5;124m./setup/aeolis.txt\u001b[39m\u001b[38;5;124m'\u001b[39m\n\u001b[1;32m----> 3\u001b[0m \u001b[43mos\u001b[49m\u001b[38;5;241;43m.\u001b[39;49m\u001b[43mchdir\u001b[49m\u001b[43m(\u001b[49m\u001b[43mos\u001b[49m\u001b[38;5;241;43m.\u001b[39;49m\u001b[43mpath\u001b[49m\u001b[38;5;241;43m.\u001b[39;49m\u001b[43mdirname\u001b[49m\u001b[43m(\u001b[49m\u001b[43mconfigfile\u001b[49m\u001b[43m)\u001b[49m\u001b[43m)\u001b[49m\n",
      "\u001b[1;31mFileNotFoundError\u001b[0m: [WinError 2] The system cannot find the file specified: './setup'"
     ]
    }
   ],
=======
   "execution_count": 18,
   "metadata": {},
   "outputs": [],
>>>>>>> Stashed changes
   "source": [
    "# Find file in the same directory as this script that contains aeolis.txt\n",
    "configfile = './setup/aeolis.txt'\n",
    "os.chdir(os.path.dirname(configfile))"
   ]
  },
  {
   "cell_type": "markdown",
   "metadata": {},
   "source": [
    "Create the BMI-AeoLiS wrapper and initialize the model:"
   ]
  },
  {
   "cell_type": "code",
<<<<<<< Updated upstream
   "execution_count": 10,
   "metadata": {},
   "outputs": [
    {
     "ename": "NameError",
     "evalue": "name 'AeoLiSRunner' is not defined",
     "output_type": "error",
     "traceback": [
      "\u001b[1;31m---------------------------------------------------------------------------\u001b[0m",
      "\u001b[1;31mNameError\u001b[0m                                 Traceback (most recent call last)",
      "Cell \u001b[1;32mIn[10], line 2\u001b[0m\n\u001b[0;32m      1\u001b[0m \u001b[38;5;66;03m# Create AeoLiS BMI Wrapper\u001b[39;00m\n\u001b[1;32m----> 2\u001b[0m aeolis_wrapper \u001b[38;5;241m=\u001b[39m \u001b[43mAeoLiSRunner\u001b[49m(configfile)\n\u001b[0;32m      4\u001b[0m \u001b[38;5;66;03m# Initialize the wrapper\u001b[39;00m\n\u001b[0;32m      5\u001b[0m aeolis_wrapper\u001b[38;5;241m.\u001b[39minitialize()\n",
      "\u001b[1;31mNameError\u001b[0m: name 'AeoLiSRunner' is not defined"
=======
   "execution_count": 19,
   "metadata": {},
   "outputs": [
    {
     "name": "stderr",
     "output_type": "stream",
     "text": [
      "Configuration file not found [./setup/aeolis.txt]\n",
      "Traceback (most recent call last):\n",
      "  File \"C:\\Users\\weste_bt\\Github\\aeolis-python\\aeolis\\__init__.py\", line 46, in log_and_raise\n",
      "    raise exc(msg)\n",
      "OSError: Configuration file not found [./setup/aeolis.txt]\n",
      "Stack (most recent call last):\n",
      "  File \"C:\\Users\\weste_bt\\.conda\\envs\\aeolis_osu\\lib\\runpy.py\", line 196, in _run_module_as_main\n",
      "    return _run_code(code, main_globals, None,\n",
      "  File \"C:\\Users\\weste_bt\\.conda\\envs\\aeolis_osu\\lib\\runpy.py\", line 86, in _run_code\n",
      "    exec(code, run_globals)\n",
      "  File \"C:\\Users\\weste_bt\\.conda\\envs\\aeolis_osu\\lib\\site-packages\\ipykernel_launcher.py\", line 18, in <module>\n",
      "    app.launch_new_instance()\n",
      "  File \"C:\\Users\\weste_bt\\.conda\\envs\\aeolis_osu\\lib\\site-packages\\traitlets\\config\\application.py\", line 1075, in launch_instance\n",
      "    app.start()\n",
      "  File \"C:\\Users\\weste_bt\\.conda\\envs\\aeolis_osu\\lib\\site-packages\\ipykernel\\kernelapp.py\", line 739, in start\n",
      "    self.io_loop.start()\n",
      "  File \"C:\\Users\\weste_bt\\.conda\\envs\\aeolis_osu\\lib\\site-packages\\tornado\\platform\\asyncio.py\", line 215, in start\n",
      "    self.asyncio_loop.run_forever()\n",
      "  File \"C:\\Users\\weste_bt\\.conda\\envs\\aeolis_osu\\lib\\asyncio\\base_events.py\", line 595, in run_forever\n",
      "    self._run_once()\n",
      "  File \"C:\\Users\\weste_bt\\.conda\\envs\\aeolis_osu\\lib\\asyncio\\base_events.py\", line 1881, in _run_once\n",
      "    handle._run()\n",
      "  File \"C:\\Users\\weste_bt\\.conda\\envs\\aeolis_osu\\lib\\asyncio\\events.py\", line 80, in _run\n",
      "    self._context.run(self._callback, *self._args)\n",
      "  File \"C:\\Users\\weste_bt\\.conda\\envs\\aeolis_osu\\lib\\site-packages\\ipykernel\\kernelbase.py\", line 545, in dispatch_queue\n",
      "    await self.process_one()\n",
      "  File \"C:\\Users\\weste_bt\\.conda\\envs\\aeolis_osu\\lib\\site-packages\\ipykernel\\kernelbase.py\", line 534, in process_one\n",
      "    await dispatch(*args)\n",
      "  File \"C:\\Users\\weste_bt\\.conda\\envs\\aeolis_osu\\lib\\site-packages\\ipykernel\\kernelbase.py\", line 437, in dispatch_shell\n",
      "    await result\n",
      "  File \"C:\\Users\\weste_bt\\.conda\\envs\\aeolis_osu\\lib\\site-packages\\ipykernel\\ipkernel.py\", line 362, in execute_request\n",
      "    await super().execute_request(stream, ident, parent)\n",
      "  File \"C:\\Users\\weste_bt\\.conda\\envs\\aeolis_osu\\lib\\site-packages\\ipykernel\\kernelbase.py\", line 778, in execute_request\n",
      "    reply_content = await reply_content\n",
      "  File \"C:\\Users\\weste_bt\\.conda\\envs\\aeolis_osu\\lib\\site-packages\\ipykernel\\ipkernel.py\", line 449, in do_execute\n",
      "    res = shell.run_cell(\n",
      "  File \"C:\\Users\\weste_bt\\.conda\\envs\\aeolis_osu\\lib\\site-packages\\ipykernel\\zmqshell.py\", line 549, in run_cell\n",
      "    return super().run_cell(*args, **kwargs)\n",
      "  File \"C:\\Users\\weste_bt\\.conda\\envs\\aeolis_osu\\lib\\site-packages\\IPython\\core\\interactiveshell.py\", line 3075, in run_cell\n",
      "    result = self._run_cell(\n",
      "  File \"C:\\Users\\weste_bt\\.conda\\envs\\aeolis_osu\\lib\\site-packages\\IPython\\core\\interactiveshell.py\", line 3130, in _run_cell\n",
      "    result = runner(coro)\n",
      "  File \"C:\\Users\\weste_bt\\.conda\\envs\\aeolis_osu\\lib\\site-packages\\IPython\\core\\async_helpers.py\", line 128, in _pseudo_sync_runner\n",
      "    coro.send(None)\n",
      "  File \"C:\\Users\\weste_bt\\.conda\\envs\\aeolis_osu\\lib\\site-packages\\IPython\\core\\interactiveshell.py\", line 3334, in run_cell_async\n",
      "    has_raised = await self.run_ast_nodes(code_ast.body, cell_name,\n",
      "  File \"C:\\Users\\weste_bt\\.conda\\envs\\aeolis_osu\\lib\\site-packages\\IPython\\core\\interactiveshell.py\", line 3517, in run_ast_nodes\n",
      "    if await self.run_code(code, result, async_=asy):\n",
      "  File \"C:\\Users\\weste_bt\\.conda\\envs\\aeolis_osu\\lib\\site-packages\\IPython\\core\\interactiveshell.py\", line 3577, in run_code\n",
      "    exec(code_obj, self.user_global_ns, self.user_ns)\n",
      "  File \"C:\\Users\\weste_bt\\AppData\\Local\\Temp\\ipykernel_15444\\4030206975.py\", line 2, in <module>\n",
      "    aeolis_wrapper = AeoLiSRunner(configfile)\n",
      "  File \"C:\\Users\\weste_bt\\Github\\aeolis-python\\aeolis\\model.py\", line 2708, in __init__\n",
      "    logger.log_and_raise('Configuration file not found [%s]' % self.configfile, exc=IOError)\n",
      "  File \"C:\\Users\\weste_bt\\Github\\aeolis-python\\aeolis\\__init__.py\", line 48, in log_and_raise\n",
      "    super(Logger, self).exception(msg, stack_info=True)\n"
     ]
    },
    {
     "ename": "OSError",
     "evalue": "Configuration file not found [./setup/aeolis.txt]",
     "output_type": "error",
     "traceback": [
      "\u001b[1;31m---------------------------------------------------------------------------\u001b[0m",
      "\u001b[1;31mOSError\u001b[0m                                   Traceback (most recent call last)",
      "Cell \u001b[1;32mIn[19], line 2\u001b[0m\n\u001b[0;32m      1\u001b[0m \u001b[38;5;66;03m# Create AeoLiS BMI Wrapper\u001b[39;00m\n\u001b[1;32m----> 2\u001b[0m aeolis_wrapper \u001b[38;5;241m=\u001b[39m \u001b[43mAeoLiSRunner\u001b[49m\u001b[43m(\u001b[49m\u001b[43mconfigfile\u001b[49m\u001b[43m)\u001b[49m\n\u001b[0;32m      4\u001b[0m \u001b[38;5;66;03m# Initialize the wrapper\u001b[39;00m\n\u001b[0;32m      5\u001b[0m aeolis_wrapper\u001b[38;5;241m.\u001b[39minitialize()\n",
      "File \u001b[1;32m~\\Github\\aeolis-python\\aeolis\\model.py:2708\u001b[0m, in \u001b[0;36mAeoLiSRunner.__init__\u001b[1;34m(self, configfile)\u001b[0m\n\u001b[0;32m   2701\u001b[0m     \u001b[38;5;28mself\u001b[39m\u001b[38;5;241m.\u001b[39mp\u001b[38;5;241m.\u001b[39mupdate(\u001b[38;5;28mdict\u001b[39m(nx         \u001b[38;5;241m=\u001b[39m \u001b[38;5;241m99\u001b[39m,\n\u001b[0;32m   2702\u001b[0m                        ny         \u001b[38;5;241m=\u001b[39m \u001b[38;5;241m0\u001b[39m,\n\u001b[0;32m   2703\u001b[0m                        xgrid_file \u001b[38;5;241m=\u001b[39m np\u001b[38;5;241m.\u001b[39marange(\u001b[38;5;241m0.\u001b[39m,\u001b[38;5;241m100.\u001b[39m,\u001b[38;5;241m1.\u001b[39m),\n\u001b[0;32m   2704\u001b[0m                        bed_file   \u001b[38;5;241m=\u001b[39m np\u001b[38;5;241m.\u001b[39mlinspace(\u001b[38;5;241m-\u001b[39m\u001b[38;5;241m5.\u001b[39m,\u001b[38;5;241m5.\u001b[39m,\u001b[38;5;241m100.\u001b[39m),\n\u001b[0;32m   2705\u001b[0m                        wind_file  \u001b[38;5;241m=\u001b[39m np\u001b[38;5;241m.\u001b[39masarray([[\u001b[38;5;241m0.\u001b[39m,\u001b[38;5;241m10.\u001b[39m,\u001b[38;5;241m0.\u001b[39m],\n\u001b[0;32m   2706\u001b[0m                                                 [\u001b[38;5;241m3601.\u001b[39m,\u001b[38;5;241m10.\u001b[39m,\u001b[38;5;241m0.\u001b[39m]])))\n\u001b[0;32m   2707\u001b[0m \u001b[38;5;28;01melse\u001b[39;00m:\n\u001b[1;32m-> 2708\u001b[0m     \u001b[43mlogger\u001b[49m\u001b[38;5;241;43m.\u001b[39;49m\u001b[43mlog_and_raise\u001b[49m\u001b[43m(\u001b[49m\u001b[38;5;124;43m'\u001b[39;49m\u001b[38;5;124;43mConfiguration file not found [\u001b[39;49m\u001b[38;5;132;43;01m%s\u001b[39;49;00m\u001b[38;5;124;43m]\u001b[39;49m\u001b[38;5;124;43m'\u001b[39;49m\u001b[43m \u001b[49m\u001b[38;5;241;43m%\u001b[39;49m\u001b[43m \u001b[49m\u001b[38;5;28;43mself\u001b[39;49m\u001b[38;5;241;43m.\u001b[39;49m\u001b[43mconfigfile\u001b[49m\u001b[43m,\u001b[49m\u001b[43m \u001b[49m\u001b[43mexc\u001b[49m\u001b[38;5;241;43m=\u001b[39;49m\u001b[38;5;167;43;01mIOError\u001b[39;49;00m\u001b[43m)\u001b[49m\n",
      "File \u001b[1;32m~\\Github\\aeolis-python\\aeolis\\__init__.py:46\u001b[0m, in \u001b[0;36mLogger.log_and_raise\u001b[1;34m(self, msg, exc, *args, **kwargs)\u001b[0m\n\u001b[0;32m     44\u001b[0m \u001b[38;5;28;01mdef\u001b[39;00m \u001b[38;5;21mlog_and_raise\u001b[39m(\u001b[38;5;28mself\u001b[39m, msg, exc\u001b[38;5;241m=\u001b[39m\u001b[38;5;167;01mException\u001b[39;00m, \u001b[38;5;241m*\u001b[39margs, \u001b[38;5;241m*\u001b[39m\u001b[38;5;241m*\u001b[39mkwargs):\n\u001b[0;32m     45\u001b[0m     \u001b[38;5;28;01mtry\u001b[39;00m:\n\u001b[1;32m---> 46\u001b[0m         \u001b[38;5;28;01mraise\u001b[39;00m exc(msg)\n\u001b[0;32m     47\u001b[0m     \u001b[38;5;28;01mexcept\u001b[39;00m:\n\u001b[0;32m     48\u001b[0m         \u001b[38;5;28msuper\u001b[39m(Logger, \u001b[38;5;28mself\u001b[39m)\u001b[38;5;241m.\u001b[39mexception(msg, stack_info\u001b[38;5;241m=\u001b[39m\u001b[38;5;28;01mTrue\u001b[39;00m)\n",
      "\u001b[1;31mOSError\u001b[0m: Configuration file not found [./setup/aeolis.txt]"
>>>>>>> Stashed changes
     ]
    }
   ],
   "source": [
    "# Create AeoLiS BMI Wrapper\n",
    "aeolis_wrapper = AeoLiSRunner(configfile)\n",
    "\n",
    "# Initialize the wrapper\n",
    "aeolis_wrapper.initialize()"
   ]
  },
  {
   "cell_type": "markdown",
   "metadata": {},
   "source": [
    "Now let's start updating the model and call the vegetation functions. "
   ]
  },
  {
   "cell_type": "code",
<<<<<<< Updated upstream
   "execution_count": null,
=======
   "execution_count": 11,
>>>>>>> Stashed changes
   "metadata": {
    "vscode": {
     "languageId": "markdown"
    }
   },
<<<<<<< Updated upstream
   "outputs": [],
=======
   "outputs": [
    {
     "ename": "NameError",
     "evalue": "name 'aeolis_wrapper' is not defined",
     "output_type": "error",
     "traceback": [
      "\u001b[1;31m---------------------------------------------------------------------------\u001b[0m",
      "\u001b[1;31mNameError\u001b[0m                                 Traceback (most recent call last)",
      "Cell \u001b[1;32mIn[11], line 2\u001b[0m\n\u001b[0;32m      1\u001b[0m \u001b[38;5;66;03m# Get variables from the initial AeoLiS state\u001b[39;00m\n\u001b[1;32m----> 2\u001b[0m x \u001b[38;5;241m=\u001b[39m \u001b[43maeolis_wrapper\u001b[49m\u001b[38;5;241m.\u001b[39mget_var(\u001b[38;5;124m'\u001b[39m\u001b[38;5;124mx\u001b[39m\u001b[38;5;124m'\u001b[39m)\n\u001b[0;32m      3\u001b[0m y \u001b[38;5;241m=\u001b[39m aeolis_wrapper\u001b[38;5;241m.\u001b[39mget_var(\u001b[38;5;124m'\u001b[39m\u001b[38;5;124my\u001b[39m\u001b[38;5;124m'\u001b[39m)\n\u001b[0;32m      4\u001b[0m bed_level \u001b[38;5;241m=\u001b[39m aeolis_wrapper\u001b[38;5;241m.\u001b[39mget_var(\u001b[38;5;124m'\u001b[39m\u001b[38;5;124mzb\u001b[39m\u001b[38;5;124m'\u001b[39m)\n",
      "\u001b[1;31mNameError\u001b[0m: name 'aeolis_wrapper' is not defined"
     ]
    }
   ],
>>>>>>> Stashed changes
   "source": [
    "# Get variables from the initial AeoLiS state\n",
    "x = aeolis_wrapper.get_var('x')\n",
    "y = aeolis_wrapper.get_var('y')\n",
    "bed_level = aeolis_wrapper.get_var('zb')\n",
    "\n",
    "# Initialize vegetation\n",
    "i_vegetated = (x > x_min_vegetation) * (x < x_max_vegetation)\n",
    "vegetation_init(i_vegetated, height_init)\n",
    "\n",
    "# Initialize the progress bar\n",
    "f = IntProgress(min=start_time, max=end_time) # instantiate the bar\n",
    "display(f) # display the bar\n",
    "\n",
    "# Loop over all timesteps to run the model\n",
<<<<<<< Updated upstream
    "for t in enumerate(np.arange(start_time, end_time, timestep):\n",
=======
    "times = np.arange(start_time, end_time, timestep)\n",
    "for t in enumerate(times):\n",
>>>>>>> Stashed changes
    "\n",
    "    # Update velocity threshold\n",
    "    velocity_threshold_mask = adjust_velocity_threshold(vegetation_height, gamma=16.0)\n",
    "\n",
    "    # Set updated velocity threshold to AeoLiS\n",
    "    aeolis_wrapper.set_var('threshold_mask', velocity_threshold_mask)\n",
    "\n",
    "    # Update AeoLiS\n",
    "    aeolis_wrapper.update(timestep)\n",
    "    # aeolis_wrapper.output_write()\n",
    "\n",
    "    # Get updated bed level from AeoLiS\n",
    "    bed_level_prev = bed_level.copy()               # Store the previous bed level to later compute bed level change\n",
    "    bed_level = aeolis_wrapper.get_var('zb')        # Get the updated bed level\n",
    "    bed_level_change = bed_level - bed_level_prev   # Compute bed level change over one timestep\n",
    "\n",
    "    # Compute the amount of transport that is being transported across the onshore boundary\n",
    "    transport = aeolis_wrapper.get_var('q')\n",
    "    onshore_bc_flux = np.average(transport[:, -1])\n",
    "    \n",
    "    # Compute the increase in dune volume growth \n",
    "    cell_area = 25  # m^2\n",
    "    cell_width = 5  # m \n",
    "    domain_width = np.shape(x)[0] * cell_width\n",
    "    volume_change = np.sum(bed_level_change * cell_area, axis=None) / domain_width  # Growth in m^3/m/timestep\n",
    "    \n",
    "    # Store variables in timestacks for animation purposes\n",
    "    if it == 0:  # Initialize timestacks on the first iteration\n",
    "        bed_level_times = [bed_level.copy()]\n",
    "        vegetation_height_times = [vegetation_height.copy()]\n",
    "        transport_times = [transport.copy()]\n",
    "        onshore_bc_flux_times = [onshore_bc_flux]\n",
    "        volume_change_times = [volume_change]\n",
<<<<<<< Updated upstream
=======
    "        plot_times = [t]\n",
>>>>>>> Stashed changes
    "    elif it % (output_time / timestep) == 0:  # Append to timestacks at specified intervals\n",
    "        bed_level_times.append(bed_level.copy())\n",
    "        vegetation_height_times.append(vegetation_height.copy())\n",
    "        transport_times.append(transport.copy())\n",
    "        onshore_bc_flux_times.append(onshore_bc_flux)\n",
    "        volume_change_times.append(volume_change)\n",
<<<<<<< Updated upstream
=======
    "        plot_times.append(t)\n",
>>>>>>> Stashed changes
    "\n",
    "    # Signal to increment the progress bar\n",
    "    f.value += timestep \n",
    "    \n",
    "# Finalize the wrapper\n",
    "aeolis_wrapper.finalize()"
   ]
  },
  {
   "cell_type": "markdown",
   "metadata": {},
   "source": [
    "# Plotting the results\n",
    "\n",
    "Now the model is finished, we will animate the results by plotting the variables stored in the timestacks:\n",
    "\n"
   ]
  },
  {
   "cell_type": "code",
<<<<<<< Updated upstream
   "execution_count": 7,
=======
   "execution_count": 10,
>>>>>>> Stashed changes
   "metadata": {},
   "outputs": [
    {
     "ename": "NameError",
<<<<<<< Updated upstream
     "evalue": "name 'plt' is not defined",
=======
     "evalue": "name 'x' is not defined",
>>>>>>> Stashed changes
     "output_type": "error",
     "traceback": [
      "\u001b[1;31m---------------------------------------------------------------------------\u001b[0m",
      "\u001b[1;31mNameError\u001b[0m                                 Traceback (most recent call last)",
<<<<<<< Updated upstream
      "Cell \u001b[1;32mIn[7], line 14\u001b[0m\n\u001b[0;32m     11\u001b[0m     \u001b[38;5;28;01mreturn\u001b[39;00m \n\u001b[0;32m     13\u001b[0m \u001b[38;5;66;03m# Initialize the Figure for plotting\u001b[39;00m\n\u001b[1;32m---> 14\u001b[0m fig, axs \u001b[38;5;241m=\u001b[39m \u001b[43mplt\u001b[49m\u001b[38;5;241m.\u001b[39msubplots()\n\u001b[0;32m     16\u001b[0m ani \u001b[38;5;241m=\u001b[39m animation\u001b[38;5;241m.\u001b[39mFuncAnimation(fig, animate, repeat\u001b[38;5;241m=\u001b[39m\u001b[38;5;28;01mFalse\u001b[39;00m, frames\u001b[38;5;241m=\u001b[39m\u001b[38;5;241m100\u001b[39m)\n\u001b[0;32m     18\u001b[0m HTML(ani\u001b[38;5;241m.\u001b[39mto_jshtml())\n",
      "\u001b[1;31mNameError\u001b[0m: name 'plt' is not defined"
=======
      "Cell \u001b[1;32mIn[10], line 22\u001b[0m\n\u001b[0;32m     19\u001b[0m     \u001b[38;5;28;01mreturn\u001b[39;00m fill_zb, fill_hv, line_hw, line_q\n\u001b[0;32m     21\u001b[0m \u001b[38;5;66;03m# Get cross-shore transects from 2D domains by averaging\u001b[39;00m\n\u001b[1;32m---> 22\u001b[0m x_cross \u001b[38;5;241m=\u001b[39m np\u001b[38;5;241m.\u001b[39maverage(\u001b[43mx\u001b[49m, axis\u001b[38;5;241m=\u001b[39m\u001b[38;5;241m1\u001b[39m)\n\u001b[0;32m     23\u001b[0m y_cross \u001b[38;5;241m=\u001b[39m np\u001b[38;5;241m.\u001b[39maverage(y, axis\u001b[38;5;241m=\u001b[39m\u001b[38;5;241m1\u001b[39m)\n\u001b[0;32m     24\u001b[0m zb_cross \u001b[38;5;241m=\u001b[39m np\u001b[38;5;241m.\u001b[39maverage(bed_level_times, axis\u001b[38;5;241m=\u001b[39m\u001b[38;5;241m2\u001b[39m)\n",
      "\u001b[1;31mNameError\u001b[0m: name 'x' is not defined"
>>>>>>> Stashed changes
     ]
    }
   ],
   "source": [
    "def animate(it):\n",
<<<<<<< Updated upstream
    "\n",
    "    # Update the plot here\n",
    "\n",
    "    return \n",
    "\n",
    "# Get cross-shore transects from 2D domains by averaing\n",
=======
    "    \"\"\"\n",
    "    Update the plot for the given frame index `it`.\n",
    "\n",
    "    Parameters:\n",
    "    it (int): Frame index for the animation.\n",
    "\n",
    "    Returns:\n",
    "    None\n",
    "    \"\"\"\n",
    "    fill_zb.remove()\n",
    "    fill_hv.remove()\n",
    "    line_hw.set_ydata(zb_cross[it, :])\n",
    "    line_q.set_ydata(qs_cross[it, :])\n",
    "    \n",
    "    fill_zb = ax0.fill_between(x_cross, zb_cross[it, :], color='yellow', alpha=0.2)\n",
    "    fill_hv = ax0.fill_between(x_cross, hv_cross[it, :], zb_cross[it, :], color='green', alpha=0.2)\n",
    "    \n",
    "    return fill_zb, fill_hv, line_hw, line_q\n",
    "\n",
    "# Get cross-shore transects from 2D domains by averaging\n",
>>>>>>> Stashed changes
    "x_cross = np.average(x, axis=1)\n",
    "y_cross = np.average(y, axis=1)\n",
    "zb_cross = np.average(bed_level_times, axis=2)\n",
    "hv_cross = np.average(vegetation_height_times, axis=2)\n",
<<<<<<< Updated upstream
    "qs_cross = np.average(vegetation_height_times, axis=2)\n",
    "\n",
    "# Initialize the Figure for plotting\n",
    "fig, axs = plt.subplots(4,1)\n",
    "\n",
    "# Plot the cross-shore profile: Initial bed level, bed level, vegetation height (and water level)?\n",
    "ax = axs[0]\n",
    "ax.set_title('')\n",
    "fill_zb = ax.fill_between(x_cross, zb_cross[0, :], ...)\n",
    "fill_hv = ax.fill_between(x_cross, zb_cross[0, :], hv_cross)\n",
    "\n",
    "# Description here\n",
    "ani = animation.FuncAnimation(fig, animate, repeat=False, frames=len(volume_change_times))\n",
=======
    "qs_cross = np.average(transport_times, axis=2)\n",
    "\n",
    "# Initialize the figure for plotting\n",
    "fig, axs = plt.subplots(3, 1, figsize=(10, 15))\n",
    "\n",
    "# Plot the cross-shore profile: Initial bed level, bed level, vegetation height (and water level)\n",
    "ax0 = axs[0]\n",
    "ax0.set_title('Cross-shore Profile')\n",
    "fill_zb = ax0.fill_between(x_cross, zb_cross[0, :], color='yellow', alpha=0.2)\n",
    "fill_hv = ax0.fill_between(x_cross, hv_cross[0, :], zb_cross[0, :], color='green', alpha=0.2)\n",
    "ax0.plot(x_cross, zb_cross[0, :], 'k:', alpha=0.2)\n",
    "line_hw, = ax0.plot(x_cross, zb_cross[0, :], 'b', alpha=0.2)\n",
    "ax0.set_xlabel('Cross-shore distance, x [m]')\n",
    "ax0.set_ylabel('Elevation, z [m+MSL]')\n",
    "\n",
    "# Plot the cross-shore distribution of onshore transport\n",
    "ax1 = axs[1]\n",
    "ax1.set_title('Cross-shore Distribution of Onshore Transport')\n",
    "line_q, = ax1.plot(x_cross, qs_cross[0, :], 'k', alpha=0.2)\n",
    "ax1.set_xlabel('Cross-shore distance, x [m]')\n",
    "ax1.set_ylabel('Transport rate, q [m^3/m/s]')\n",
    "\n",
    "# Plot the cumulative onshore transport across the onshore boundary\n",
    "ax2 = axs[2]\n",
    "ax2.set_title('Cumulative Onshore Transport and Dune Growth')\n",
    "ax2.plot(times, onshore_bc_flux_times, color='b', alpha=0.5, label='Outgoing onshore flux')\n",
    "ax2.plot(times, volume_change_times, color='r', alpha=0.5, label='Dune growth')\n",
    "ax2.set_xlabel('Time [s]')\n",
    "ax2.set_ylabel('Sand volume [m^3/m]')\n",
    "ax2.legend()\n",
    "\n",
    "# Create animation\n",
    "ani = animation.FuncAnimation(fig, animate, repeat=False, frames=len(plot_times))\n",
>>>>>>> Stashed changes
    "\n",
    "HTML(ani.to_jshtml())"
   ]
  },
  {
   "cell_type": "markdown",
   "metadata": {},
   "source": [
<<<<<<< Updated upstream
    "# Case 0: Benchmark scenario\n",
    "\n",
    "In the "
   ]
=======
    "# Model interpretation / Case 0: Benchmark scenario\n",
    "\n",
    "Questions: Model setup interpretation. Wind speed? Direction? Profile shape? Tidal excursion? Size? Slope?\n",
    "\n",
    "In the current scenario (initial settings of this Notebook), no features are actively capturing sediment on the beach. As a result, all the sediment is blown directly exiting the domain and blown against the house. Run the model and try to answer the questions below based on the animated results:\n",
    "\n",
    "- How much sand is transported across the onshore boundary?\n",
    "- Where is this sediment picked up from?\n",
    "\n",
    "# Case 1: Sand Fences\n",
    "\n",
    "Now we are adding sand fences... xmin=... xmax=... Growth rate is zero, initial height is one. Modify these parameters!\n",
    "\n",
    "- Describe what happens? How long effective? ...\n",
    "\n",
    "# Case 2: Vegetation\n",
    "\n",
    "Now vegetation: vegetation growth rate = 2 m/year (?)\n",
    "\n",
    "# Case 2b: Different vegetation type\n",
    "\n",
    "Different type to create different dune shape (=0.5 m/year) but wider coverage. Influence on dune shape?"
   ]
  },
  {
   "cell_type": "code",
   "execution_count": null,
   "metadata": {},
   "outputs": [],
   "source": []
>>>>>>> Stashed changes
  }
 ],
 "metadata": {
  "kernelspec": {
   "display_name": "Python 3 (ipykernel)",
   "language": "python",
   "name": "python3"
  },
  "language_info": {
   "codemirror_mode": {
    "name": "ipython",
    "version": 3
   },
   "file_extension": ".py",
   "mimetype": "text/x-python",
   "name": "python",
   "nbconvert_exporter": "python",
   "pygments_lexer": "ipython3",
   "version": "3.10.0"
  }
 },
 "nbformat": 4,
 "nbformat_minor": 4
}
